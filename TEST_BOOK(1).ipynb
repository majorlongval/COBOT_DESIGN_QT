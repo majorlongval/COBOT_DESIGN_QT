{
 "cells": [
  {
   "cell_type": "code",
   "execution_count": 3,
   "metadata": {},
   "outputs": [],
   "source": [
    "# importing the stuff I need\n",
    "import numpy as np\n",
    "import matplotlib.pyplot as plt\n",
    "from matplotlib import animation, rc\n",
    "from IPython.display import HTML"
   ]
  },
  {
   "cell_type": "code",
   "execution_count": 4,
   "metadata": {},
   "outputs": [],
   "source": [
    "# Defining the classes\n",
    "\n",
    "class cst_plane_Robot_Link:\n",
    "    def __init__(self, Length=1, mass=1, ip=(0,0), ang=0):\n",
    "        self.Length = Length\n",
    "        self.mass = mass\n",
    "        self.ip = ip\n",
    "        self.ang = ang\n",
    "        self.fp = self.calculate_fp(self.ang, self.Length, self.ip)\n",
    "        \n",
    "        \n",
    "    def calculate_fp(self, ang, Length, ip):\n",
    "        rot_mat  = np.array([[np.cos(ang), -np.sin(ang)],\n",
    "                                 [np.sin(ang), np.cos(ang)]]) \n",
    "        rel_vect = np.round(np.dot(rot_mat,np.array([Length,0])),5)\n",
    "        fp = rel_vect + ip\n",
    "        return fp\n",
    "        \n",
    "    def rotate(self, nang):\n",
    "        self.ang = nang\n",
    "        self.fp = self.calculate_fp(nang, self.Length, self.ip)\n",
    "        \n",
    "    def plot(self, ax, **kwargs):\n",
    "        ax.plot([self.ip[0], self.fp[0]], [self.ip[1], self.fp[1]], **kwargs)\n",
    "        return self.fp\n",
    "    \n",
    "\n",
    "class plane_COBOT:\n",
    "    def __init__(self, thetas=[np.pi/4, np.pi,-np.pi/4], \n",
    "                 Lengths=[1, 0.2, 1.2, 0.5]  , Masses=[1, 1, 1, 1],\n",
    "                 Inertias=[1, 1, 1, 1], basePoint=[0,0]):\n",
    "        self.thetas = thetas\n",
    "        self.Lengths = Lengths\n",
    "        self.Masses = Masses\n",
    "        self.Inertias = Inertias\n",
    "        self.basePoint = basePoint\n",
    "        self.PGDp = self.PGD()\n",
    "        self.Link_1 = cst_plane_Robot_Link(ip=(0,0), Length = self.Lengths[0], ang= self.thetas[0])\n",
    "        self.Link_2 = cst_plane_Robot_Link(ip=(0,0), Length = self.Lengths[1], ang= self.thetas[1])\n",
    "        self.Link_3 = cst_plane_Robot_Link(ip=self.PGDp[1], Length = -self.Lengths[2], ang= self.thetas[1])\n",
    "        self.Link_4 = cst_plane_Robot_Link(ip=self.PGDp[2], Length = self.Lengths[3], ang= self.thetas[2])\n",
    "        self.Link_5 = cst_plane_Robot_Link(ip=self.PGDp[0], Length = self.Lengths[0], ang= self.thetas[0])\n",
    "                                                               \n",
    "    \n",
    "    def PGD(self):\n",
    "        e1 = np.array([np.cos(self.thetas[0]), np.sin(self.thetas[0])])\n",
    "        e2 = np.array([np.cos(self.thetas[1]), np.sin(self.thetas[1])])\n",
    "        e3 = np.array([np.cos(self.thetas[2]+self.thetas[1]+self.thetas[0]),\n",
    "                       np.sin(self.thetas[2]+self.thetas[1]+self.thetas[0])])\n",
    "        p1 = np.array(self.basePoint)+(self.Lengths[1]*e2)\n",
    "        p2 = p1 + (self.Lengths[0]*e1)\n",
    "        p3 = p2 - (self.Lengths[2]*e2)\n",
    "        p  = p3 + (self.Lengths[3]*e3)\n",
    "        return [p1, p2, p3, p]\n",
    "        \n",
    "    def plot(self, ax, **kwargs):\n",
    "        \n",
    "        self.Link_2.plot(ax, **kwargs)\n",
    "        self.Link_3.plot(ax, **kwargs)\n",
    "        self.Link_1.plot(ax, **kwargs)\n",
    "        self.Link_4.plot(ax, **kwargs)\n",
    "        self.Link_5.plot(ax, **kwargs)"
   ]
  },
  {
   "cell_type": "code",
   "execution_count": 10,
   "metadata": {},
   "outputs": [
    {
     "data": {
      "image/png": "[encoded data removed]",
      "text/plain": [
       "<Figure size 432x288 with 1 Axes>"
      ]
     },
     "metadata": {
      "needs_background": "light"
     },
     "output_type": "display_data"
    }
   ],
   "source": [
    "# Testing the stuff\n",
    "test_Cobot = plane_COBOT(thetas=[0.5*np.pi, 0.9*np.pi,-0.25*np.pi], \n",
    "                 Lengths=[1, 0.2, 1.2, 0.5]  , Masses=[1, 1, 1, 1],\n",
    "                 Inertias=[1, 1, 1, 1], basePoint=[0,0])\n",
    "\n",
    "\n",
    "\n",
    "fig2, ax2 = plt.subplots()\n",
    "ax2.grid('on')\n",
    "ax2.set_aspect('equal', 'box')\n",
    "ax2.set_xlim(-1, 3); ax2.set_ylim(-1, 3)\n",
    "\n",
    "test_Cobot.plot(ax2, lw=5, marker = '.', color = 'b',\n",
    "                markersize=20, markerfacecolor='r', markeredgecolor='r', alpha=0.5)\n"
   ]
  },
  {
   "cell_type": "code",
   "execution_count": null,
   "metadata": {},
   "outputs": [],
   "source": []
  }
 ],
 "metadata": {
  "kernelspec": {
   "display_name": "Python 3",
   "language": "python",
   "name": "python3"
  },
  "language_info": {
   "codemirror_mode": {
    "name": "ipython",
    "version": 3
   },
   "file_extension": ".py",
   "mimetype": "text/x-python",
   "name": "python",
   "nbconvert_exporter": "python",
   "pygments_lexer": "ipython3",
   "version": "3.7.2"
  }
 },
 "nbformat": 4,
 "nbformat_minor": 2
}
